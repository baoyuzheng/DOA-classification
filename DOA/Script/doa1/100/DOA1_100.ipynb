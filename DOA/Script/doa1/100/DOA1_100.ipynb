{
 "cells": [
  {
   "cell_type": "code",
   "execution_count": 1,
   "id": "b2743da7-6bc8-4cf5-9307-a655f8c9186b",
   "metadata": {},
   "outputs": [],
   "source": [
    "import scipy.io as sio\n",
    "import numpy as np\n",
    "import torch\n",
    "import os\n",
    "from os import listdir\n",
    "from os.path import isfile, join\n",
    "from torch import nn, optim\n",
    "import torchvision\n",
    "from torch.utils.data import Dataset, DataLoader\n",
    "from torch.utils.data.sampler import SubsetRandomSampler\n",
    "import numpy as np \n",
    "import math\n",
    "import pandas as pd\n",
    "import cmath\n",
    "import scipy.io as sio\n",
    "import numpy as np\n",
    "import torch\n",
    "from torch import nn, optim\n",
    "import torchvision\n",
    "from torch.utils.data import Dataset, DataLoader\n",
    "import numpy as np \n",
    "import math\n",
    "import pandas as pd\n",
    "import cmath\n",
    "import mat73\n",
    "\n",
    "#from unet import UNet\n",
    "# from auto import encoder, decoder\n",
    "\n",
    "from collections import OrderedDict\n",
    "from torch.utils.data.sampler import SubsetRandomSampler\n",
    "from torch.autograd import Variable\n",
    "#==========================================================================\n",
    "# For Plotting loss graph\n",
    "# Bokeh\n",
    "from bokeh.io import curdoc\n",
    "from bokeh.layouts import column\n",
    "from bokeh.models import ColumnDataSource\n",
    "from bokeh.plotting import figure\n",
    "\n",
    "from functools import partial\n",
    "from threading import Thread\n",
    "from tornado import gen\n",
    "# from AttRCNN_UNet import Att_R2U\n",
    "import logging\n",
    "logging.basicConfig(format='%(asctime)s - %(message)s', level=logging.INFO)\n",
    "import sys\n",
    "# from dataloader import norm\n",
    "import csv\n",
    "from sklearn.model_selection import train_test_split\n",
    "from sys import getsizeof\n",
    "# import wandb\n",
    "# import logging\n",
    "# logging.basicConfig(format='%(asctime)s - %(message)s', level=logging.INFO)"
   ]
  },
  {
   "cell_type": "code",
   "execution_count": 2,
   "id": "5d533c9d-bd10-4595-9477-97b9b6fecd56",
   "metadata": {},
   "outputs": [],
   "source": [
    "nq_type = \"NS\" # Sub-Nyquist or Nyquist sample\n",
    "no_samples = 100\n",
    "no_doa = 6"
   ]
  },
  {
   "cell_type": "code",
   "execution_count": 3,
   "id": "7cbfe8e7-5047-46cb-85dd-c1bb137dfbf7",
   "metadata": {},
   "outputs": [],
   "source": [
    "root_dataset_path =  (\"../../datasets/100/DOA6\")"
   ]
  },
  {
   "cell_type": "code",
   "execution_count": 4,
   "id": "f5bb4394-0368-458b-966a-c11b027ee7f5",
   "metadata": {},
   "outputs": [],
   "source": [
    "def create_dataset(df, dataset_type):\n",
    "  \n",
    "    data = np.transpose(df[dataset_type], (2, 0, 1))\n",
    "    label = df['DOA']\n",
    "    X_train, X_test, y_train, y_test = train_test_split(data, label, test_size=0.10, random_state=42)\n",
    "    \n",
    "    return X_train, X_test, y_train, y_test"
   ]
  },
  {
   "cell_type": "code",
   "execution_count": 5,
   "id": "a0f623ec-dafb-429b-8e7f-dfa1428f7df6",
   "metadata": {},
   "outputs": [],
   "source": [
    "def get_data(train, label, batch_size, train_bool=True):\n",
    "    class DOA_dataset(Dataset):\n",
    "        def __init__(self, train, test):\n",
    "            self.x = torch.from_numpy(np.array(train))\n",
    "            self.y = torch.from_numpy(np.asarray(label))\n",
    "            self.n_sample = len(self.y)\n",
    "        def __getitem__(self, index):\n",
    "            return self.x[index], self.y[index]\n",
    "        def __len__(self):\n",
    "            return self.n_sample\n",
    "\n",
    "\n",
    "    dataset = DOA_dataset(train, label)\n",
    "    \n",
    "\n",
    "    loader = torch.utils.data.DataLoader(dataset, batch_size=batch_size, shuffle=train_bool)\n",
    "    return loader"
   ]
  },
  {
   "cell_type": "code",
   "execution_count": 6,
   "id": "29a9cfd7-86f9-4c9c-aa7d-dbbf793d3ce4",
   "metadata": {},
   "outputs": [],
   "source": [
    "df1  = sio.loadmat(\"../../datasets/100/DOA6/SNR_NS_0_6_100000.mat\")"
   ]
  },
  {
   "cell_type": "code",
   "execution_count": 13,
   "id": "f0068b01-c617-4333-8564-73aa5c73cf91",
   "metadata": {},
   "outputs": [],
   "source": [
    "transp = np.transpose(df1['NS_data'], (2, 0, 1))\n",
    "new = np.zeros((100000, 3, 8, 100))\n",
    "for i in range(0, transp.shape[0]):\n",
    "    for j in range(0, transp.shape[1]):\n",
    "        for k in range(0, transp.shape[2]):\n",
    "            new[i][0][j][k] = transp[i][j][k].real\n",
    "            new[i][1][j][k] = transp[i][j][k].imag\n",
    "            new[i][2][j][k] = cmath.phase(transp[i][j][k])"
   ]
  },
  {
   "cell_type": "code",
   "execution_count": 14,
   "id": "1d42c563-aad4-48ab-aaf9-825b55b1ff03",
   "metadata": {},
   "outputs": [
    {
     "data": {
      "text/plain": [
       "(100000, 3, 8, 100)"
      ]
     },
     "execution_count": 14,
     "metadata": {},
     "output_type": "execute_result"
    }
   ],
   "source": [
    "new.shape"
   ]
  },
  {
   "cell_type": "code",
   "execution_count": 31,
   "id": "65f3f8d4-84b4-4424-a909-7ba9e68dbaca",
   "metadata": {},
   "outputs": [
    {
     "data": {
      "text/plain": [
       "array([-3.05304301,  2.45123622,  2.53728555, -2.7911906 , -1.70906938,\n",
       "       -2.4472191 , -2.37130292, -1.85577411, -1.31098267, -0.42307692,\n",
       "       -1.36889332, -0.93089771,  0.12307016,  0.32595651,  0.365734  ,\n",
       "        0.28411599,  0.69692479,  2.25330789,  1.85328587,  1.46270947,\n",
       "        1.88636534,  1.82296085,  2.10865795,  2.13710762, -3.01677972,\n",
       "        1.72734545, -3.13457304, -2.41932838, -0.19189779, -2.0530364 ,\n",
       "       -2.45581969,  2.39257057, -0.41355023,  1.28737994,  2.82503939,\n",
       "        2.87568951, -2.65489372,  2.64606909, -2.76529496, -2.34578336,\n",
       "        0.10139584, -2.02494842, -1.42504432,  2.5582724 ,  2.38160463,\n",
       "       -0.1769003 , -0.18980297,  2.37701519, -1.92797034, -2.91080342,\n",
       "       -1.8599997 , -1.39792287, -1.58818982, -2.89937329, -0.0860637 ,\n",
       "       -1.10468397, -0.32905554,  0.70894542,  0.25246965,  0.09626797,\n",
       "        1.25474429,  3.10958563,  2.02844804,  2.38962328, -1.04506998,\n",
       "       -1.09488967,  0.42714803, -2.29407103, -0.85700904, -0.3878711 ,\n",
       "        0.43892455,  0.99868423,  1.73238132,  2.33067783,  2.42485745,\n",
       "        1.62804833,  2.90920788,  2.78983692,  3.07202676, -2.59302352,\n",
       "       -3.01287853,  1.08371973, -1.74029097,  0.14646229,  0.92323896,\n",
       "       -2.72004288,  2.47462991, -2.8406263 ,  3.00836275, -2.87823647,\n",
       "       -2.16174484,  0.52932128, -2.18237764, -1.30625909, -1.0960805 ,\n",
       "       -1.12900684, -0.40204234,  1.41683298,  1.79610136,  0.70571571])"
      ]
     },
     "execution_count": 31,
     "metadata": {},
     "output_type": "execute_result"
    }
   ],
   "source": [
    "new[0][2][7]"
   ]
  },
  {
   "cell_type": "code",
   "execution_count": 32,
   "id": "b8ca3d80-f927-4e22-8bde-f8f3c5ab6d22",
   "metadata": {},
   "outputs": [],
   "source": [
    "a = (np.max(new[:,2,:,:]) - np.min(new[:,2,:,:]))\n",
    "k = new[2]/a"
   ]
  },
  {
   "cell_type": "code",
   "execution_count": 33,
   "id": "6d7ce0ca-d1f7-45b0-a6b6-255cc426f390",
   "metadata": {},
   "outputs": [
    {
     "data": {
      "text/plain": [
       "array([-0.00165588, -0.02217933,  0.01070128,  0.01137881,  0.01729746,\n",
       "        0.03578723,  0.00942878,  0.03594103,  0.03025375,  0.01906789,\n",
       "        0.01641902,  0.00066365,  0.01072174, -0.02023822, -0.0344483 ,\n",
       "       -0.00538524, -0.0243263 , -0.0301473 , -0.02696455, -0.03162282,\n",
       "       -0.004271  ,  0.00913837,  0.02158793,  0.02292515,  0.02968018,\n",
       "        0.02802117,  0.00272398,  0.02471635,  0.03475526, -0.00347539,\n",
       "       -0.00660656, -0.02521838,  0.00474822, -0.01698643,  0.00248033,\n",
       "       -0.00901578,  0.00352659,  0.00996662,  0.03033465,  0.02186368,\n",
       "        0.00591488, -0.02672437, -0.01046898, -0.01621644, -0.00379269,\n",
       "       -0.00037182, -0.01537781,  0.00711982, -0.03281743,  0.00111348,\n",
       "        0.00450632,  0.00784687,  0.00064737, -0.00151409, -0.02631006,\n",
       "        0.00022832, -0.0109346 , -0.0132783 ,  0.01486429,  0.02303386,\n",
       "        0.02221512,  0.02868811,  0.01884316, -0.00714312,  0.02949113,\n",
       "        0.02417609, -0.0096582 , -0.00340862, -0.01812632,  0.01339713,\n",
       "       -0.01170932, -0.00979488, -0.04159387, -0.00150092,  0.02097773,\n",
       "        0.02632997,  0.01889445,  0.00939358,  0.01164736, -0.01105368,\n",
       "       -0.01163106, -0.01061463, -0.02512404, -0.01460868, -0.03710965,\n",
       "       -0.02060224, -0.0197507 ,  0.00733098,  0.00555852,  0.01667944,\n",
       "        0.02153327,  0.02523377,  0.04556343,  0.0152604 ,  0.00036901,\n",
       "       -0.00259772,  0.00774188, -0.00047972, -0.0207114 , -0.0243501 ])"
      ]
     },
     "execution_count": 33,
     "metadata": {},
     "output_type": "execute_result"
    }
   ],
   "source": [
    "k[0][0]"
   ]
  },
  {
   "cell_type": "code",
   "execution_count": 55,
   "id": "8ddd6875-dd0f-4b11-9231-9e80af719c74",
   "metadata": {},
   "outputs": [
    {
     "ename": "IndexError",
     "evalue": "too many indices for array: array is 3-dimensional, but 4 were indexed",
     "output_type": "error",
     "traceback": [
      "\u001b[0;31m---------------------------------------------------------------------------\u001b[0m",
      "\u001b[0;31mIndexError\u001b[0m                                Traceback (most recent call last)",
      "\u001b[0;32m<ipython-input-55-7634ec7d5653>\u001b[0m in \u001b[0;36m<module>\u001b[0;34m\u001b[0m\n\u001b[0;32m----> 1\u001b[0;31m \u001b[0mnp\u001b[0m\u001b[0;34m.\u001b[0m\u001b[0mmax\u001b[0m\u001b[0;34m(\u001b[0m\u001b[0mnew\u001b[0m\u001b[0;34m[\u001b[0m\u001b[0;34m:\u001b[0m\u001b[0;34m,\u001b[0m\u001b[0;36m0\u001b[0m\u001b[0;34m,\u001b[0m\u001b[0;34m:\u001b[0m\u001b[0;34m,\u001b[0m\u001b[0;34m:\u001b[0m\u001b[0;34m]\u001b[0m\u001b[0;34m)\u001b[0m\u001b[0;34m,\u001b[0m \u001b[0mnp\u001b[0m\u001b[0;34m.\u001b[0m\u001b[0mmin\u001b[0m\u001b[0;34m(\u001b[0m\u001b[0mnew\u001b[0m\u001b[0;34m[\u001b[0m\u001b[0;34m:\u001b[0m\u001b[0;34m,\u001b[0m\u001b[0;36m0\u001b[0m\u001b[0;34m,\u001b[0m\u001b[0;34m:\u001b[0m\u001b[0;34m,\u001b[0m\u001b[0;34m:\u001b[0m\u001b[0;34m]\u001b[0m\u001b[0;34m)\u001b[0m\u001b[0;34m\u001b[0m\u001b[0;34m\u001b[0m\u001b[0m\n\u001b[0m",
      "\u001b[0;31mIndexError\u001b[0m: too many indices for array: array is 3-dimensional, but 4 were indexed"
     ]
    }
   ],
   "source": [
    "np.max(new[:,0,:,:]), np.min(new[:,0,:,:])"
   ]
  },
  {
   "cell_type": "code",
   "execution_count": 38,
   "id": "41cd3056-b9ac-46cb-b174-3137f0b17f9e",
   "metadata": {},
   "outputs": [
    {
     "name": "stderr",
     "output_type": "stream",
     "text": [
      "2021-08-18 23:29:26,095 - Dividing your dataset into 3 channel\n"
     ]
    }
   ],
   "source": [
    "df1  = sio.loadmat(\"../../datasets/100/DOA6/SNR_NS_0_6_100000.mat\")\n",
    "# df2  = sio.loadmat(\"../../datasets/100/DOA6/SNR_NS_10_6_100000.mat\")\n",
    "# df3  = sio.loadmat(\"../../datasets/100/DOA6/SNR_NS_20_6_100000.mat\")\n",
    "# df4  = sio.loadmat(\"../../datasets/100/DOA6/SNR_NS_30_6_100000.mat\")\n",
    "# df5  = sio.loadmat(\"../../datasets/100/DOA6/SNR_NS_40_6_100000.mat\")\n",
    "df = [df1]\n",
    "\n",
    "new_train_dataset_list = []\n",
    "new_test_dataset_list = []\n",
    "train_dataset_list_label = []\n",
    "test_dataset_list_label = []\n",
    "\n",
    "# dataset_len = 0\n",
    "# if dataset_type == \"SNS\":\n",
    "#     dataset_len = ss//10\n",
    "# if dataset_type == \"NS\":\n",
    "#     dataset_len = ss\n",
    "dataset_len = 100\n",
    "for file in df:\n",
    "    X_train, X_test, y_train, y_test = create_dataset(file, \"NS\"+\"_data\")\n",
    "    new_train_dataset_list.extend(X_train)\n",
    "    new_test_dataset_list.append(X_test.tolist())\n",
    "    train_dataset_list_label.extend(y_train)\n",
    "    test_dataset_list_label.append(y_test.tolist())\n",
    "\n",
    "# Deleteing all unused memory\n",
    "del df\n",
    "\n",
    "# Dividing into different channels\n",
    "logging.info('Dividing your dataset into 3 channel')\n",
    "\n",
    "for idx, data in enumerate(new_train_dataset_list):\n",
    "    new = np.zeros((3, 8, dataset_len))\n",
    "    for j in range(0, data.shape[0]):\n",
    "        for k in range(0, data.shape[1]):\n",
    "            new[0][j][k] = data[j][k].real\n",
    "            new[1][j][k] = data[j][k].imag\n",
    "            new[2][j][k] = cmath.phase(data[j][k])\n",
    "    new_train_dataset_list[idx] = new\n"
   ]
  },
  {
   "cell_type": "code",
   "execution_count": 65,
   "id": "7076d54e-d252-4ab9-947a-09f9b7b1f045",
   "metadata": {},
   "outputs": [],
   "source": [
    "# new_train_dataset_list[1][2]"
   ]
  },
  {
   "cell_type": "code",
   "execution_count": 56,
   "id": "43b411cc-e80e-4044-84dd-530b2455280c",
   "metadata": {},
   "outputs": [],
   "source": [
    "for idx, data in enumerate(new_train_dataset_list):\n",
    "    new_train_dataset_list[idx][0] = new_train_dataset_list[idx][0]/(np.max(new_train_dataset_list[idx][0])) \n",
    "    new_train_dataset_list[idx][1] = new_train_dataset_list[idx][1]/(np.max(new_train_dataset_list[idx][1])) \n",
    "    new_train_dataset_list[idx][2] = new_train_dataset_list[idx][2]/(np.max(new_train_dataset_list[idx][2]))\n",
    "#     print(new_train_dataset_list[idx])"
   ]
  },
  {
   "cell_type": "code",
   "execution_count": 68,
   "id": "ca697d46-06dc-47f7-ab78-4c88da2fc7ed",
   "metadata": {},
   "outputs": [],
   "source": [
    "for idx, data in enumerate(new_test_dataset_list):\n",
    "    for i, ndata in enumerate(data):\n",
    "        new = np.zeros((3, 8, dataset_len))\n",
    "        for j in range(0, 8):\n",
    "            for k in range(0, dataset_len):\n",
    "                new[0][j][k] = ndata[j][k].real\n",
    "                new[1][j][k] = ndata[j][k].imag\n",
    "                new[2][j][k] = cmath.phase(ndata[j][k])\n",
    "        new_test_dataset_list[idx][i] = new"
   ]
  },
  {
   "cell_type": "code",
   "execution_count": 80,
   "id": "2632b035-010b-4c4e-bbb6-e07522bd1e47",
   "metadata": {},
   "outputs": [
    {
     "data": {
      "text/plain": [
       "3.133351058316604"
      ]
     },
     "execution_count": 80,
     "metadata": {},
     "output_type": "execute_result"
    }
   ],
   "source": [
    "np.max(new_test_dataset_list[0][2][2])"
   ]
  },
  {
   "cell_type": "code",
   "execution_count": 81,
   "id": "7450ac83-aa83-4caa-9f1a-a677ddb7f795",
   "metadata": {},
   "outputs": [],
   "source": [
    "for idx, data in enumerate(new_test_dataset_list):\n",
    "    for i, ndata in enumerate(data):\n",
    "        new_test_dataset_list[idx][i][0] = new_test_dataset_list[idx][i][0]/(np.max(new_test_dataset_list[idx][i][0]))\n",
    "        new_test_dataset_list[idx][i][1] = new_test_dataset_list[idx][i][1]/(np.max(new_test_dataset_list[idx][i][1]))\n",
    "        new_test_dataset_list[idx][i][2] = new_test_dataset_list[idx][i][2]/(np.max(new_test_dataset_list[idx][i][2]))"
   ]
  },
  {
   "cell_type": "code",
   "execution_count": 82,
   "id": "712f128e-b88a-4c33-b308-2141d79bcaeb",
   "metadata": {},
   "outputs": [
    {
     "data": {
      "text/plain": [
       "1.0"
      ]
     },
     "execution_count": 82,
     "metadata": {},
     "output_type": "execute_result"
    }
   ],
   "source": [
    "np.max(new_test_dataset_list[0][2][2])"
   ]
  },
  {
   "cell_type": "code",
   "execution_count": 83,
   "id": "4d9566e2-424a-4b32-b191-b91141bffd8b",
   "metadata": {},
   "outputs": [
    {
     "data": {
      "text/plain": [
       "-0.9974660488668081"
      ]
     },
     "execution_count": 83,
     "metadata": {},
     "output_type": "execute_result"
    }
   ],
   "source": [
    "np.min(new_test_dataset_list[0][2][2])"
   ]
  },
  {
   "cell_type": "code",
   "execution_count": 6,
   "id": "ddf68b54-6492-4d9f-ae6c-40f5fdadd198",
   "metadata": {},
   "outputs": [],
   "source": [
    "def create_dataloader(root_path, dataset_type, ss):\n",
    "    # Loading all dataset \n",
    "    logging.info('Data prepration started')\n",
    "#     df1  = sio.loadmat(root_path + \"/SNR_{}_00_{}_{}.mat\".format(nq_type, no_doa, no_samples))\n",
    "#     df2  = sio.loadmat(root_path + \"/SNR_{}_10_{}_{}.mat\".format(nq_type, no_doa, no_samples))\n",
    "#     df3  = sio.loadmat(root_path + \"/SNR_{}_20_{}_{}.mat\".format(nq_type, no_doa, no_samples))\n",
    "#     df4  = sio.loadmat(root_path + \"/SNR_{}_30_{}_{}.mat\".format(nq_type, no_doa, no_samples))\n",
    "#     df5  = sio.loadmat(root_path + \"/SNR_{}_40_{}_{}.mat\".format(nq_type, no_doa, no_samples))\n",
    "    df1  = sio.loadmat(\"../../datasets/100/DOA6/SNR_NS_0_6_100000.mat\")\n",
    "    df2  = sio.loadmat(\"../../datasets/100/DOA6/SNR_NS_10_6_100000.mat\")\n",
    "    df3  = sio.loadmat(\"../../datasets/100/DOA6/SNR_NS_20_6_100000.mat\")\n",
    "    df4  = sio.loadmat(\"../../datasets/100/DOA6/SNR_NS_30_6_100000.mat\")\n",
    "    df5  = sio.loadmat(\"../../datasets/100/DOA6/SNR_NS_40_6_100000.mat\")\n",
    "    df = [df1, df2, df3, df4, df5]\n",
    "\n",
    "    new_train_dataset_list = []\n",
    "    new_test_dataset_list = []\n",
    "    train_dataset_list_label = []\n",
    "    test_dataset_list_label = []\n",
    "\n",
    "    dataset_len = 0\n",
    "    if dataset_type == \"SNS\":\n",
    "        dataset_len = ss//10\n",
    "    if dataset_type == \"NS\":\n",
    "        dataset_len = ss\n",
    "\n",
    "    for file in df:\n",
    "        X_train, X_test, y_train, y_test = create_dataset(file, dataset_type+\"_data\")\n",
    "        new_train_dataset_list.extend(X_train)\n",
    "        new_test_dataset_list.append(X_test.tolist())\n",
    "        train_dataset_list_label.extend(y_train)\n",
    "        test_dataset_list_label.append(y_test.tolist())\n",
    "\n",
    "    # Deleteing all unused memory\n",
    "    del df\n",
    "\n",
    "    # Dividing into different channels\n",
    "    logging.info('Dividing your dataset into 3 channel')\n",
    "\n",
    "    for idx, data in enumerate(new_train_dataset_list):\n",
    "        new = np.zeros((3, 8, dataset_len))\n",
    "        for j in range(0, data.shape[0]):\n",
    "            for k in range(0, data.shape[1]):\n",
    "                new[0][j][k] = data[j][k].real\n",
    "                new[1][j][k] = data[j][k].imag\n",
    "                new[2][j][k] = cmath.phase(data[j][k])\n",
    "        new_train_dataset_list[idx] = new\n",
    "    print(\"Max bfore train\", np.max(new_train_dataset_list[0][2]))\n",
    "    for idx, data in enumerate(new_train_dataset_list):\n",
    "        data[0] = data[0]/(np.max(data[0])) \n",
    "        data[1] = data[1]/(np.max(data[1])) \n",
    "        data[2] = data[2]/(np.max(data[2]))\n",
    "        \n",
    "    print(\"Max after train\", np.max(new_train_dataset_list[0][2]))\n",
    "    \n",
    "    \n",
    "    for idx, data in enumerate(new_test_dataset_list):\n",
    "        for i, ndata in enumerate(data):\n",
    "            new = np.zeros((3, 8, dataset_len))\n",
    "            for j in range(0, 8):\n",
    "                for k in range(0, dataset_len):\n",
    "                    new[0][j][k] = ndata[j][k].real\n",
    "                    new[1][j][k] = ndata[j][k].imag\n",
    "                    new[2][j][k] = cmath.phase(ndata[j][k])\n",
    "            new_test_dataset_list[idx][i] = new\n",
    "            \n",
    "    print(\"Max after test\", np.min(new_test_dataset_list[0][2][2]))        \n",
    "    for idx, data in enumerate(new_test_dataset_list):\n",
    "        for i, ndata in enumerate(data):\n",
    "            new_test_dataset_list[idx][i][0] = new_test_dataset_list[idx][i][0]/(np.max(new_test_dataset_list[idx][i][0]))\n",
    "            new_test_dataset_list[idx][i][1] = new_test_dataset_list[idx][i][1]/(np.max(new_test_dataset_list[idx][i][1]))\n",
    "            new_test_dataset_list[idx][i][2] = new_test_dataset_list[idx][i][2]/(np.max(new_test_dataset_list[idx][i][2]))\n",
    "    print(\"Max after test\", np.min(new_test_dataset_list[0][2][2]))\n",
    "    # Generaring train loader\n",
    "    logging.info('Creating Train dataloader')\n",
    "    doa_train_loader = get_data(new_train_dataset_list, train_dataset_list_label, 64, True)\n",
    "\n",
    "    # Deleteing all unused memory\n",
    "    del new_train_dataset_list\n",
    "    del train_dataset_list_label\n",
    "\n",
    "    test_dataset_list = []\n",
    "    logging.info('Creating Validation dataloader')\n",
    "    for idx, data in enumerate(new_test_dataset_list):\n",
    "        f = get_data(data, test_dataset_list_label[idx], 128, False)\n",
    "        test_dataset_list.append(f)\n",
    "\n",
    "    # Deleteing all unused memory\n",
    "    del new_test_dataset_list\n",
    "    del new\n",
    "    logging.info('Your dataset is ready !!')\n",
    "    return doa_train_loader ,test_dataset_list"
   ]
  },
  {
   "cell_type": "code",
   "execution_count": 7,
   "id": "3602595f-724d-49ec-b5a9-357b45e84a28",
   "metadata": {},
   "outputs": [
    {
     "name": "stderr",
     "output_type": "stream",
     "text": [
      "2021-08-18 23:49:53,082 - Data prepration started\n",
      "2021-08-18 23:50:36,256 - Dividing your dataset into 3 channel\n"
     ]
    },
    {
     "name": "stdout",
     "output_type": "stream",
     "text": [
      "Max bfore train 3.1408423810846076\n",
      "Max after train 1.0\n",
      "Max after test -3.1254112998516947\n"
     ]
    },
    {
     "name": "stderr",
     "output_type": "stream",
     "text": [
      "2021-08-19 00:06:44,135 - Creating Train dataloader\n"
     ]
    },
    {
     "name": "stdout",
     "output_type": "stream",
     "text": [
      "Max after test -0.9974660488668081\n"
     ]
    },
    {
     "name": "stderr",
     "output_type": "stream",
     "text": [
      "2021-08-19 00:06:47,927 - Creating Validation dataloader\n",
      "2021-08-19 00:06:48,134 - Your dataset is ready !!\n"
     ]
    }
   ],
   "source": [
    "doa_train_loader , test_dataset_list = create_dataloader(root_dataset_path, \"NS\", 100)"
   ]
  },
  {
   "cell_type": "code",
   "execution_count": 8,
   "id": "1bbf6c1c-2f8f-4597-9471-2b6ec4386cce",
   "metadata": {},
   "outputs": [
    {
     "name": "stdout",
     "output_type": "stream",
     "text": [
      "torch.Size([1, 1, 6, 181])\n"
     ]
    }
   ],
   "source": [
    "import torch\n",
    "import torch.nn as nn\n",
    "import torch.nn.functional as F\n",
    "\n",
    "\n",
    "class BasicBlock(nn.Module):\n",
    "    expansion = 1\n",
    "\n",
    "    def __init__(self, in_planes, planes, stride=1):\n",
    "        super(BasicBlock, self).__init__()\n",
    "        self.conv1 = nn.Conv2d(in_planes, planes, kernel_size=(3,3), stride=stride, padding=1, bias=False)\n",
    "        self.bn1 = nn.BatchNorm2d(planes)\n",
    "        self.conv2 = nn.Conv2d(planes, planes, kernel_size=(3,3), stride=1, padding=1, bias=False)\n",
    "        self.bn2 = nn.BatchNorm2d(planes)\n",
    "        self.relu1 = nn.ReLU(inplace=True)\n",
    "        self.relu2 = nn.ReLU(inplace=True)\n",
    "\n",
    "        self.shortcut = nn.Sequential()\n",
    "        if stride != 1 or in_planes != self.expansion*planes:\n",
    "            self.shortcut = nn.Sequential(\n",
    "                nn.Conv2d(in_planes, self.expansion*planes, kernel_size=1, stride=stride, bias=False),\n",
    "                nn.BatchNorm2d(self.expansion*planes)\n",
    "            )\n",
    "\n",
    "    def forward(self, x):\n",
    "        out = self.conv1(x)\n",
    "        out = self.bn1(out)\n",
    "        out = self.relu1(out)\n",
    "        out = self.conv2(out)\n",
    "        out = self.bn2(out)\n",
    "        out += self.shortcut(x)\n",
    "        out = self.relu2(out)\n",
    "        return out\n",
    "\n",
    "class ResNet(nn.Module):\n",
    "    def __init__(self, block, num_blocks, num_classes=181):\n",
    "        super(ResNet, self).__init__()\n",
    "        self.in_planes = 64\n",
    "\n",
    "        self.conv1 = nn.Conv2d(3, 64, kernel_size=(1,3), stride=1, padding=1, bias=False)\n",
    "        self.bn1 = nn.BatchNorm2d(64)\n",
    "        self.layer1 = self._make_layer(block, 64, num_blocks[0], stride=1)\n",
    "        self.layer2 = self._make_layer(block, 128, num_blocks[1], stride=1)\n",
    "        self.layer3 = self._make_layer(block, 256, num_blocks[2], stride=1)\n",
    "        self.layer4 = self._make_layer(block, 512, num_blocks[3], stride=1)\n",
    "        self.linear = nn.Linear(25, num_classes)\n",
    "        self.adp_pool = nn.AdaptiveMaxPool2d((no_doa, 25))\n",
    "        #self.flat = nn.Conv2d(in_channels=512, out_channels=1, kernel_size=1, stride=1)\n",
    "        self.flat = nn.Conv2d(in_channels=512, out_channels=1, kernel_size=1, stride=1)\n",
    "        self.dropout = nn.Dropout(0.9)\n",
    "        self.dropout1 = nn.Dropout(0.8)\n",
    "        self.relu = nn.ReLU(inplace=True)\n",
    "\n",
    "    def _make_layer(self, block, planes, num_blocks, stride):\n",
    "        strides = [stride] + [1]*(num_blocks-1)\n",
    "        layers = []\n",
    "        for stride in strides:\n",
    "            layers.append(block(self.in_planes, planes, stride))\n",
    "            self.in_planes = planes * block.expansion\n",
    "        return nn.Sequential(*layers)\n",
    "\n",
    "    def forward(self, x):\n",
    "        out = self.relu(self.bn1(self.conv1(x)))\n",
    "        out = self.layer1(out)\n",
    "        out = self.layer2(out)\n",
    "        out = self.layer3(out)\n",
    "        out = self.dropout(out)\n",
    "        out = self.layer4(out)\n",
    "        out = self.dropout1(out)\n",
    "        out = self.adp_pool(out)\n",
    "        out = self.linear(out)\n",
    "        out = self.dropout1(out)\n",
    "        out = self.flat(out)\n",
    "        return out\n",
    "\n",
    "\n",
    "def ResNet18():\n",
    "    return ResNet(BasicBlock, [2, 2, 2, 2])\n",
    "\n",
    "\n",
    "def ResNet34():\n",
    "    return ResNet(BasicBlock, [2, 3, 5, 2])\n",
    "\n",
    "def ResNet101():\n",
    "    return ResNet(BasicBlock, [3, 4, 23, 3])\n",
    "\n",
    "\n",
    "if __name__ == \"__main__\":\n",
    "    image = torch.rand(1, 3, 10, 100)\n",
    "    model = ResNet34()\n",
    "    print(model(image).size())\n"
   ]
  },
  {
   "cell_type": "code",
   "execution_count": 9,
   "id": "88a09ec6-2c42-49c2-a62c-23712b839b76",
   "metadata": {},
   "outputs": [],
   "source": [
    "class FocalLoss(nn.modules.loss._WeightedLoss):\n",
    "    def __init__(self, weight=None, gamma=2,reduction='mean'):\n",
    "        super(FocalLoss, self).__init__(weight,reduction=reduction)\n",
    "        self.gamma = gamma\n",
    "        self.weight = weight #weight parameter will act as the alpha parameter to balance class weights\n",
    "\n",
    "    def forward(self, input, target):\n",
    "        ce_loss = F.cross_entropy(input, target,reduction=self.reduction,weight=self.weight)\n",
    "        pt = torch.exp(-ce_loss)\n",
    "        focal_loss = ((1 - pt) ** self.gamma * ce_loss).mean()\n",
    "        return focal_loss"
   ]
  },
  {
   "cell_type": "code",
   "execution_count": 10,
   "id": "13f55549-5522-451a-9b7f-9da8733cc56f",
   "metadata": {},
   "outputs": [
    {
     "name": "stdout",
     "output_type": "stream",
     "text": [
      "GeForce GTX 1080 Ti\n"
     ]
    }
   ],
   "source": [
    "num_epochs = 70\n",
    "\n",
    "weights_dir = \"../doa_weights\"\n",
    "\n",
    "autoencoder = ResNet34()\n",
    "criterion = nn.CrossEntropyLoss()\n",
    "focal_criterion = FocalLoss()\n",
    "# if ('{}_DOA_{}_{}_model.pth'.format(nq_type, no_doa, no_samples) in [f for f in listdir(weights_dir) if isfile(join(weights_dir, f))]):\n",
    "#     print(\"Pre-trained available for DOA_{}_{}_model.pth\".format(no_doa, no_samples))\n",
    "#     autoencoder = torch.load(os.path.join(weights_dir, '{}_DOA_{}_{}_model.pth'.format(nq_type, no_doa, no_samples)))\n",
    "\n",
    "# model = nn.Sequential( pre_trained, autoencoder)\n",
    "# model = ConvAutoencoder()\n",
    "if torch.cuda.is_available():\n",
    "    print(torch.cuda.get_device_name(0))\n",
    "    classification_model = autoencoder.cuda()\n",
    "    optimizer = optim.AdamW(classification_model.parameters(), lr=0.001, weight_decay=1e-4)\n",
    "  \n",
    "scheduler = optim.lr_scheduler.ReduceLROnPlateau(optimizer, \"min\", factor=0.05, patience=3, verbose=True)"
   ]
  },
  {
   "cell_type": "code",
   "execution_count": 11,
   "id": "e0021095-1725-4efd-b5dd-d3d8f81c9397",
   "metadata": {},
   "outputs": [],
   "source": [
    "acc_res = {\n",
    "    \"training\": [],\n",
    "    0: [],\n",
    "    10: [],\n",
    "    20: [],\n",
    "    30: [],\n",
    "    40: []\n",
    "}\n",
    "loss_res = {\n",
    "    \"training\": [],\n",
    "    0: [],\n",
    "    10: [],\n",
    "    20: [],\n",
    "    30: [],\n",
    "    40: []\n",
    "}\n",
    "mae_res = {\n",
    "    \"training\": [],\n",
    "    0: [],\n",
    "    10: [],\n",
    "    20: [],\n",
    "    30: [],\n",
    "    40: []\n",
    "}"
   ]
  },
  {
   "cell_type": "code",
   "execution_count": null,
   "id": "ae7da751-6e51-48a5-a71e-67a35fb5fc3c",
   "metadata": {},
   "outputs": [
    {
     "name": "stdout",
     "output_type": "stream",
     "text": [
      "Training Starts !!!!!!!\n",
      "Epoch [1/70], Training Loss: 5.2411, Training Accuracy: 0.5635, Training MAE: 0.33055487275123596\n",
      "SNR [0dB], Validation Loss: 5.1779, Validation Accuracy: 0.6517, Validation MAE: 0.337107390165329\n",
      "SNR [10dB], Validation Loss: 5.1723, Validation Accuracy: 0.6933, Validation MAE: 0.3228834271430969\n",
      "SNR [20dB], Validation Loss: 5.1708, Validation Accuracy: 0.6450, Validation MAE: 0.32240137457847595\n",
      "SNR [30dB], Validation Loss: 5.1716, Validation Accuracy: 0.6350, Validation MAE: 0.32209092378616333\n",
      "SNR [40dB], Validation Loss: 5.1699, Validation Accuracy: 0.6883, Validation MAE: 0.3217634856700897\n",
      "\n",
      "\n"
     ]
    }
   ],
   "source": [
    "%%time\n",
    "def train():\n",
    "    print(\"Training Starts !!!!!!!\")\n",
    "    best_valid_loss = float('Inf')\n",
    "    for i in range(num_epochs):\n",
    "        training_loss = 0\n",
    "        train_correct = 0\n",
    "        train_total = 0\n",
    "        epoch_loss = 0.0\n",
    "        training_mae = 0.0\n",
    "        classification_model.train()\n",
    "#         criterion = None\n",
    "#         if (i+1)>=25 :\n",
    "#           print(\"Criterion is changed to focal loss\")\n",
    "#           criterion = focal_criterion.cuda()\n",
    "#         else:\n",
    "#           criterion = cross_criterion.cuda()\n",
    "        for j,(features, labels) in enumerate(doa_train_loader, 0):\n",
    "            features, labels = Variable(features.cuda()), Variable(labels.cuda())\n",
    "            optimizer.zero_grad()\n",
    "            enn = classification_model(features.float())\n",
    "            auto_outputs = torch.transpose(enn, 2, 3)\n",
    "            auto_outputs = torch.reshape(auto_outputs.cuda(), (auto_outputs.shape[0], 181, no_doa))\n",
    "            losss = criterion(auto_outputs.cuda(), labels.type(torch.LongTensor).cuda())\n",
    "            losss.backward()\n",
    "            optimizer.step()\n",
    "#           exp_scheduler.step()\n",
    "            training_loss += losss.item()\n",
    "\n",
    "            _, pred = torch.max(auto_outputs, 1)\n",
    "\n",
    "            train_total+= labels.reshape(-1).size(0)\n",
    "\n",
    "            train_correct+=(pred.reshape(-1).cuda() == labels.reshape(-1)).sum().item()\n",
    "\n",
    "            epoch_loss += auto_outputs.shape[0] * losss.item()\n",
    "            training_mae += torch.mean(torch.abs(pred.float().cuda() - labels.float()))\n",
    "\n",
    "        loss_res['training'].append(training_loss/len(doa_train_loader))\n",
    "        acc_res['training'].append((100*(train_correct/train_total)))\n",
    "        mae_res['training'].append(training_mae/(len(doa_train_loader)*181))\n",
    "        print('Epoch [{}/{}], Training Loss: {:.4f}, Training Accuracy: {:.4f}, Training MAE: {}'\n",
    "                      .format(i+1, num_epochs, training_loss/len(doa_train_loader), (100*(train_correct/train_total)), training_mae/(len(doa_train_loader)*181)))\n",
    "        \n",
    "        # Validation for each SNR value\n",
    "        classification_model.eval()\n",
    "        total_valdation_loss = 0\n",
    "        zero_val = 0\n",
    "        for val_data in range(0, len(test_dataset_list)):\n",
    "            \n",
    "            validation_loss = 0\n",
    "            validation_acc = 0\n",
    "            validation_mae = 0.0\n",
    "            val_correct = 0\n",
    "            val_total = 0\n",
    "\n",
    "            with torch.no_grad():\n",
    "                for features, labels in test_dataset_list[val_data]:\n",
    "                    features, labels = Variable(features.cuda()), Variable(labels.cuda())\n",
    "                    enn = classification_model(features.float())\n",
    "                    auto_outputs = torch.transpose(enn, 2, 3)\n",
    "                    auto_outputs = torch.reshape(auto_outputs, (auto_outputs.shape[0], 181, no_doa))\n",
    "                    loss = criterion(auto_outputs.cuda(), labels.type(torch.LongTensor).cuda())\n",
    "\n",
    "                    _, pred = torch.max(auto_outputs, 1)\n",
    "                    val_total+= labels.reshape(-1).size(0)\n",
    "                    val_correct+=(pred.reshape(-1).cuda() == labels.reshape(-1)).sum().item()\n",
    "                    validation_loss += loss.item()\n",
    "                    validation_mae += torch.mean(torch.abs(pred.float().cuda() - labels.float()))\n",
    "\n",
    "                loss_res[10*val_data].append(validation_loss/len(test_dataset_list[val_data]))\n",
    "                acc_res[10*val_data].append((100*(val_correct/val_total)))\n",
    "                \n",
    "                mae_res[10*val_data].append(validation_mae/(len(test_dataset_list[val_data])*181))\n",
    "                print('SNR [{}dB], Validation Loss: {:.4f}, Validation Accuracy: {:.4f}, Validation MAE: {}'\n",
    "                      .format(val_data*10, validation_loss/len(test_dataset_list[val_data]), (100*(val_correct/val_total)), validation_mae/(len(test_dataset_list[val_data])*181)))\n",
    "\n",
    "                total_valdation_loss+=validation_loss\n",
    "\n",
    "        scheduler.step(loss_res[0][len(loss_res[0])-1])\n",
    "        # print(\"Odb Loss => \", loss_res[0][len(loss_res[0])-1])\n",
    "        # print(\"Lr -> \", optimizer.state_dict()[\"param_groups\"][0]['lr'])\n",
    "        torch.save( classification_model, weights_dir+ \"/{}_DOA_{}_{}_model.pth\".format(nq_type, no_doa, no_samples))\n",
    "        if best_valid_loss > total_valdation_loss:\n",
    "            best_valid_loss = total_valdation_loss \n",
    "            # Saving Best Pre-Trained Model as .pth file\n",
    "            torch.save( classification_model, weights_dir+ \"/{}_DOA_{}_{}_best_model.pth\".format(nq_type, no_doa, no_samples))\n",
    "#         if i%10 == 0:\n",
    "#           ddf = pd.DataFrame(acc_res)\n",
    "#           ddf.to_csv(weights_dir+\"res_DOA_{}_model.csv\".format(doa))\n",
    "        print(\"\\n\")\n",
    "\n",
    "train()\n",
    "print(\"Training Complete\")"
   ]
  },
  {
   "cell_type": "code",
   "execution_count": 13,
   "id": "21418eec-a9b5-4fd0-8b5d-4eeaf7202830",
   "metadata": {},
   "outputs": [
    {
     "name": "stdout",
     "output_type": "stream",
     "text": [
      "=== Metrics ===\n",
      "==== DOA-1 ====\n",
      "= MAE =_= Acc =\n",
      "0.0672   28.42\n",
      "0.0301   64.16\n",
      "0.0145   86.54\n",
      "0.0068   96.48\n",
      "0.0032   98.93\n"
     ]
    }
   ],
   "source": [
    "# SNS DOA-2 200 Samples\n",
    "print(\"=== Metrics ===\")\n",
    "print(\"==== DOA-{} ====\".format(no_doa))\n",
    "print(\"= MAE =_= Acc =\")\n",
    "print(\"{:.4f}\".format(min(mae_res[0])), \"  {:.2f}\".format(acc_res[0][mae_res[0].index(min(mae_res[0]))]))\n",
    "print(\"{:.4f}\".format(min(mae_res[10])), \"  {:.2f}\".format(acc_res[10][mae_res[10].index(min(mae_res[10]))]))\n",
    "print(\"{:.4f}\".format(min(mae_res[20])), \"  {:.2f}\".format(acc_res[20][mae_res[20].index(min(mae_res[20]))]))\n",
    "print(\"{:.4f}\".format(min(mae_res[30])), \"  {:.2f}\".format(acc_res[30][mae_res[30].index(min(mae_res[30]))]))\n",
    "print(\"{:.4f}\".format(min(mae_res[40])), \"  {:.2f}\".format(acc_res[40][mae_res[40].index(min(mae_res[40]))]))"
   ]
  },
  {
   "cell_type": "code",
   "execution_count": 1,
   "id": "8876e570-494b-401a-a436-4a9611925491",
   "metadata": {},
   "outputs": [
    {
     "ename": "NameError",
     "evalue": "name 'loss_res' is not defined",
     "output_type": "error",
     "traceback": [
      "\u001b[0;31m---------------------------------------------------------------------------\u001b[0m",
      "\u001b[0;31mNameError\u001b[0m                                 Traceback (most recent call last)",
      "\u001b[0;32m<ipython-input-1-004af10bd35a>\u001b[0m in \u001b[0;36m<module>\u001b[0;34m\u001b[0m\n\u001b[1;32m      1\u001b[0m \u001b[0;32mimport\u001b[0m \u001b[0mmatplotlib\u001b[0m\u001b[0;34m.\u001b[0m\u001b[0mpyplot\u001b[0m \u001b[0;32mas\u001b[0m \u001b[0mplt\u001b[0m\u001b[0;34m\u001b[0m\u001b[0;34m\u001b[0m\u001b[0m\n\u001b[0;32m----> 2\u001b[0;31m \u001b[0mep\u001b[0m \u001b[0;34m=\u001b[0m \u001b[0mrange\u001b[0m\u001b[0;34m(\u001b[0m\u001b[0;36m0\u001b[0m\u001b[0;34m,\u001b[0m \u001b[0mlen\u001b[0m\u001b[0;34m(\u001b[0m\u001b[0mloss_res\u001b[0m\u001b[0;34m[\u001b[0m\u001b[0;34m\"training\"\u001b[0m\u001b[0;34m]\u001b[0m\u001b[0;34m)\u001b[0m\u001b[0;34m)\u001b[0m\u001b[0;34m\u001b[0m\u001b[0;34m\u001b[0m\u001b[0m\n\u001b[0m\u001b[1;32m      3\u001b[0m \u001b[0mplt\u001b[0m\u001b[0;34m.\u001b[0m\u001b[0mfigure\u001b[0m\u001b[0;34m(\u001b[0m\u001b[0mfigsize\u001b[0m\u001b[0;34m=\u001b[0m\u001b[0;34m(\u001b[0m\u001b[0;36m10\u001b[0m\u001b[0;34m,\u001b[0m \u001b[0;36m8\u001b[0m\u001b[0;34m)\u001b[0m\u001b[0;34m)\u001b[0m\u001b[0;34m\u001b[0m\u001b[0;34m\u001b[0m\u001b[0m\n\u001b[1;32m      4\u001b[0m \u001b[0mplt\u001b[0m\u001b[0;34m.\u001b[0m\u001b[0mplot\u001b[0m\u001b[0;34m(\u001b[0m\u001b[0mep\u001b[0m\u001b[0;34m,\u001b[0m \u001b[0mloss_res\u001b[0m\u001b[0;34m[\u001b[0m\u001b[0;34m\"training\"\u001b[0m\u001b[0;34m]\u001b[0m\u001b[0;34m,\u001b[0m \u001b[0mlabel\u001b[0m\u001b[0;34m=\u001b[0m\u001b[0;34m'Train'\u001b[0m\u001b[0;34m)\u001b[0m\u001b[0;34m\u001b[0m\u001b[0;34m\u001b[0m\u001b[0m\n\u001b[1;32m      5\u001b[0m \u001b[0mplt\u001b[0m\u001b[0;34m.\u001b[0m\u001b[0mplot\u001b[0m\u001b[0;34m(\u001b[0m\u001b[0mep\u001b[0m\u001b[0;34m,\u001b[0m \u001b[0mloss_res\u001b[0m\u001b[0;34m[\u001b[0m\u001b[0;36m0\u001b[0m\u001b[0;34m]\u001b[0m\u001b[0;34m,\u001b[0m \u001b[0mlabel\u001b[0m\u001b[0;34m=\u001b[0m\u001b[0;34m'0 dB'\u001b[0m\u001b[0;34m)\u001b[0m\u001b[0;34m\u001b[0m\u001b[0;34m\u001b[0m\u001b[0m\n",
      "\u001b[0;31mNameError\u001b[0m: name 'loss_res' is not defined"
     ]
    }
   ],
   "source": [
    "import matplotlib.pyplot as plt\n",
    "ep = range(0, len(loss_res[\"training\"]))\n",
    "plt.figure(figsize=(10, 8))\n",
    "plt.plot(ep, loss_res[\"training\"], label='Train')\n",
    "plt.plot(ep, loss_res[0], label='0 dB')\n",
    "plt.plot(ep, loss_res[10], label='10 dB')\n",
    "plt.plot(ep, loss_res[20], label='20 dB')\n",
    "plt.plot(ep, loss_res[30], label='30 dB')\n",
    "plt.plot(ep, loss_res[40], label='40 dB')\n",
    "plt.xlabel('Epochs', fontsize=14)\n",
    "plt.ylabel('Loss', fontsize=14)\n",
    "plt.title(\"DOA - {}\".format(no_doa))\n",
    "plt.legend(fontsize=14)\n",
    "plt.show()"
   ]
  },
  {
   "cell_type": "code",
   "execution_count": 14,
   "id": "b7c2df67-65ec-432b-a1d3-8dce0f2a2cf5",
   "metadata": {},
   "outputs": [
    {
     "data": {
      "image/png": "[encoded data removed]",
      "text/plain": [
       "<Figure size 720x576 with 1 Axes>"
      ]
     },
     "metadata": {
      "needs_background": "light"
     },
     "output_type": "display_data"
    }
   ],
   "source": [
    "import matplotlib.pyplot as plt\n",
    "ep = range(0, len(loss_res[\"training\"]))\n",
    "plt.figure(figsize=(10, 8))\n",
    "plt.plot(ep, loss_res[\"training\"], label='Train')\n",
    "plt.plot(ep, loss_res[0], label='0 dB')\n",
    "plt.plot(ep, loss_res[10], label='10 dB')\n",
    "plt.plot(ep, loss_res[20], label='20 dB')\n",
    "plt.plot(ep, loss_res[30], label='30 dB')\n",
    "plt.plot(ep, loss_res[40], label='40 dB')\n",
    "plt.xlabel('Epochs', fontsize=14)\n",
    "plt.ylabel('Loss', fontsize=14)\n",
    "plt.title(\"DOA - {}\".format(no_doa))\n",
    "plt.legend(fontsize=14)\n",
    "plt.show()"
   ]
  },
  {
   "cell_type": "code",
   "execution_count": null,
   "id": "0a704382-23b7-4bc4-b69e-2ee4e24d457f",
   "metadata": {},
   "outputs": [],
   "source": []
  }
 ],
 "metadata": {
  "kernelspec": {
   "display_name": "Python 3",
   "language": "python",
   "name": "python3"
  },
  "language_info": {
   "codemirror_mode": {
    "name": "ipython",
    "version": 3
   },
   "file_extension": ".py",
   "mimetype": "text/x-python",
   "name": "python",
   "nbconvert_exporter": "python",
   "pygments_lexer": "ipython3",
   "version": "3.7.3"
  }
 },
 "nbformat": 4,
 "nbformat_minor": 5
}
